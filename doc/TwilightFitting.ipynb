{
 "metadata": {
  "name": "",
  "signature": "sha256:dd7d419e6b02f762ab66ba7a6fbf048addd1b0a56a6a3dcf6106aa17e5c46c57"
 },
 "nbformat": 3,
 "nbformat_minor": 0,
 "worksheets": [
  {
   "cells": [
    {
     "cell_type": "markdown",
     "metadata": {},
     "source": [
      "For fitting the twilight, we have several potential problems to overcome:\n",
      "* None of the instruments are currently zeropointed\n",
      "* The observations are contaminated by other sources of light (e.g., zodiacal light and the Milky Way)\n",
      "\n",
      "We can fit the zenith sky flux with the fucntion:\n",
      "$f^z(\\alpha) = f_{ratio}f_{dark}10^{A(\\alpha+12) } + f_{dark}$\n",
      "\n",
      "where $f_{ratio} = f^z_{12}/f^z_{dark}$, $f^z_{dark}$ is the zenith flux from all the other sky components, $\\alpha$ is the sun's altitude, $f_{12}$ is the twilight flux when the sun is at an altitude of -12 degrees, and $A$ is the slope.\n",
      "\n",
      "The twilight component at zenith in magnitudes then becomes:\n",
      "\n",
      "$m^z_{twi} = -2.5{\\rm{log}}_{10}f_{rat} -2.5A(\\alpha+12) + m_{dark}^z$\n"
     ]
    },
    {
     "cell_type": "markdown",
     "metadata": {},
     "source": [
      "We can then expand to include the airmass ($X$) and azimuth ($\\theta$) components.  For the hemisphere facing away from the sun (  $ \\pi/2 < \\theta < 3\\pi/2$), the brightness is only dependent on the altitude so:\n",
      "\n",
      "$f_{twi}(\\alpha, X) = f_{ratio}f_{dark}10^{A(\\alpha+12)+B(1-X) } $\n",
      "\n",
      "And for the direction facing the sun:\n",
      "\n",
      "$f_{twi}(\\alpha, X, \\theta) =  f_{ratio}f_{dark}10^{A(\\alpha+12)+B(1-X)+C\\cos{\\theta}(1-X) } $"
     ]
    },
    {
     "cell_type": "markdown",
     "metadata": {},
     "source": [
      "<h2>What about the variations in twilight levels</h2>\n",
      "\n",
      "The twilight is caused by multiple scatterings of solar photons. Therefore, small variations in the composition of the upper atmosphere, or presence of clouds beyond the horizon can drastically increase or decrease the twlight flux.  \n",
      "\n",
      "This model is a fit to the median conditions. In theory, a real time sky monitor would show if the sky background was higher or lower than the model values. For simulating the scheduler, we can either add/subtract flux to simulate the weather.  But even if we assume the sky matches the simlified model, things should even out.  In the sim, observations will always procede until a sun altitude of -12 degrees (say), while the actual survey will sometimes be able to extend to -11 degrees, and other times be forced to close at -10 degrees.  "
     ]
    },
    {
     "cell_type": "code",
     "collapsed": false,
     "input": [],
     "language": "python",
     "metadata": {},
     "outputs": []
    }
   ],
   "metadata": {}
  }
 ]
}
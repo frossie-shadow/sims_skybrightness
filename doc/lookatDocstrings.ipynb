{
 "cells": [
  {
   "cell_type": "code",
   "execution_count": 1,
   "metadata": {
    "collapsed": true
   },
   "outputs": [],
   "source": [
    "%matplotlib inline\n",
    "import lsst.sims.skybrightness as sb"
   ]
  },
  {
   "cell_type": "markdown",
   "metadata": {},
   "source": [
    "First, initialize the object"
   ]
  },
  {
   "cell_type": "code",
   "execution_count": 2,
   "metadata": {
    "collapsed": false
   },
   "outputs": [
    {
     "name": "stdout",
     "output_type": "stream",
     "text": [
      "Help on method __init__ in module lsst.sims.skybrightness.skyModel:\n",
      "\n",
      "__init__(self, observatory='LSST', twilight=True, zodiacal=True, moon=True, airglow=True, lowerAtm=False, upperAtm=False, scatteredStar=False, mergedSpec=True, mags=False) unbound lsst.sims.skybrightness.skyModel.SkyModel method\n",
      "    Instatiate the SkyModel. This loads all the required template spectra/magnitudes\n",
      "    that will be used for interpolation.\n",
      "    \n",
      "    Observatory: object with attributes lat,lon,elev. But default loads LSST.\n",
      "    twilight: Include twilight component (True)\n",
      "    zodiacal: Include zodiacal light component (True)\n",
      "    moon: Include scattered moonlight compoennt (True)\n",
      "    airglow: Include airglow component (True)\n",
      "    lowerAtm: Include lower atmosphere component (False). This component is part of mergedSpec.\n",
      "    upperAtm: Include upper atmosphere component (False). This component is part of mergedSpec.\n",
      "    scatteredStar: Include scattered starlight component (False). This component is part of mergedSpec.\n",
      "    mergedSpec: Compute the lowerAtm, upperAtm, and scatteredStar simultaneously since they are all\n",
      "    functions of only airmass (True).\n",
      "    mags: (False) By default, the sky model computes a 17,001 element spectrum. If mags is true,\n",
      "          the model will return the LSST ugrizy magnitudes.\n",
      "\n"
     ]
    }
   ],
   "source": [
    "help(sb.SkyModel.__init__)\n",
    "sm = sb.SkyModel(mags=True)"
   ]
  },
  {
   "cell_type": "markdown",
   "metadata": {},
   "source": [
    "Each ESO component is loaded as an object that reads data from the sims_skybrightness_data package and then has methods for interpolating the loaded spectra and magnitudes.  The twilight is an object with an identical API, but it uses the analytic fit to generate spectra/mags.\n",
    "\n",
    "Next, compute the sky at a given point and time."
   ]
  },
  {
   "cell_type": "code",
   "execution_count": 3,
   "metadata": {
    "collapsed": false
   },
   "outputs": [
    {
     "name": "stdout",
     "output_type": "stream",
     "text": [
      "Help on method setRaDecMjd in module lsst.sims.skybrightness.skyModel:\n",
      "\n",
      "setRaDecMjd(self, lon, lat, mjd, degrees=False, azAlt=False, solarFlux=130.0) method of lsst.sims.skybrightness.skyModel.SkyModel instance\n",
      "    Set the sky parameters by computing the sky conditions on a given MJD and sky location.\n",
      "    \n",
      "    lon: Longitude-like (RA or Azimuth). Can be single number, list, or numpy array\n",
      "    lat: Latitude-like (Dec or Altitude)\n",
      "    mjd: Modified Julian Date for the calculation. Must be single number.\n",
      "    degrees: (False) Assumes lon and lat are radians unless degrees=True\n",
      "    azAlt: (False) Assume lon,lat are RA,Dec unless azAlt=True\n",
      "    solarFlux: solar flux in SFU Between 50 and 310. Default=130. 1 SFU=10^4 Jy.\n",
      "\n"
     ]
    },
    {
     "name": "stderr",
     "output_type": "stream",
     "text": [
      "/Users/yoachim/lsst/DarwinX86/healpy/1.8.1+11/lib/python/healpy-1.8.1-py2.7-macosx-10.5-x86_64.egg/healpy/pixelfunc.py:1045: FutureWarning: comparison to `None` will result in an elementwise object comparison in the future.\n",
      "  if phi == None:\n"
     ]
    }
   ],
   "source": [
    "sm.setRaDecMjd(0.,89., 57000., degrees=True, azAlt=True)\n",
    "help(sm.setRaDecMjd)"
   ]
  },
  {
   "cell_type": "markdown",
   "metadata": {},
   "source": [
    "Now pull out the magnitudes that were computed"
   ]
  },
  {
   "cell_type": "code",
   "execution_count": 4,
   "metadata": {
    "collapsed": false
   },
   "outputs": [
    {
     "name": "stdout",
     "output_type": "stream",
     "text": [
      "Help on method returnMags in module lsst.sims.skybrightness.skyModel:\n",
      "\n",
      "returnMags(self, bandpass=None) method of lsst.sims.skybrightness.skyModel.SkyModel instance\n",
      "    Convert the computed spectra to magnitudes using the supplied bandpasses,\n",
      "    or, if self.mags=True, just return the mags in the LSST filters\n",
      "\n",
      "[[ 22.79979436  22.24339543  21.22686189  20.37354495  19.40009628\n",
      "   18.10119338]]\n"
     ]
    }
   ],
   "source": [
    "help(sm.returnMags)\n",
    "print sm.returnMags()"
   ]
  },
  {
   "cell_type": "markdown",
   "metadata": {},
   "source": [
    "Try it out for a lower altitude. No need to re-initialize the object."
   ]
  },
  {
   "cell_type": "code",
   "execution_count": 5,
   "metadata": {
    "collapsed": false
   },
   "outputs": [
    {
     "name": "stdout",
     "output_type": "stream",
     "text": [
      "[[ 20.25587298  19.14060786  18.94915709  18.83947981  18.4640568\n",
      "   17.54751295]]\n"
     ]
    }
   ],
   "source": [
    "sm.setRaDecMjd(0.,40., 57000.1, degrees=True, azAlt=True)\n",
    "print sm.returnMags()"
   ]
  },
  {
   "cell_type": "markdown",
   "metadata": {},
   "source": [
    "If you have multiple points at the same MJD, run them simultaneously."
   ]
  },
  {
   "cell_type": "code",
   "execution_count": 6,
   "metadata": {
    "collapsed": false
   },
   "outputs": [
    {
     "name": "stdout",
     "output_type": "stream",
     "text": [
      "[[ 20.57117324  19.66661588  19.56020304  19.4512853   19.01738148\n",
      "   18.01955556]\n",
      " [ 20.25587298  19.14060786  18.94915709  18.83947981  18.4640568\n",
      "   17.54751295]]\n"
     ]
    }
   ],
   "source": [
    "sm.setRaDecMjd([0.,0.],[89.,40.], 57000.1, degrees=True, azAlt=True)\n",
    "print sm.returnMags()"
   ]
  },
  {
   "cell_type": "markdown",
   "metadata": {},
   "source": [
    "It can be nice to inspect the sun and moon positions"
   ]
  },
  {
   "cell_type": "code",
   "execution_count": 7,
   "metadata": {
    "collapsed": false
   },
   "outputs": [
    {
     "name": "stdout",
     "output_type": "stream",
     "text": [
      "10:38:05.3 -28:19:44.4\n"
     ]
    }
   ],
   "source": [
    "print sm.moonAlt, sm.sunAlt"
   ]
  },
  {
   "cell_type": "markdown",
   "metadata": {},
   "source": [
    "Note that the ra and dec arrays are stored, so OpSim could just initialize with the list of field RA and Dec's, then update just the mjd at each timestep:"
   ]
  },
  {
   "cell_type": "code",
   "execution_count": 8,
   "metadata": {
    "collapsed": false
   },
   "outputs": [
    {
     "name": "stdout",
     "output_type": "stream",
     "text": [
      "[ 0.75066769  0.75066769] [-0.51041524  0.3447961 ]\n"
     ]
    }
   ],
   "source": [
    "print sm.ra, sm.dec\n",
    "mjd = sm.mjd +.1\n",
    "sm = sm.setRaDecMjd(sm.ra,sm.dec, mjd)"
   ]
  },
  {
   "cell_type": "code",
   "execution_count": null,
   "metadata": {
    "collapsed": true
   },
   "outputs": [],
   "source": []
  }
 ],
 "metadata": {
  "kernelspec": {
   "display_name": "Python 2",
   "language": "python",
   "name": "python2"
  },
  "language_info": {
   "codemirror_mode": {
    "name": "ipython",
    "version": 2
   },
   "file_extension": ".py",
   "mimetype": "text/x-python",
   "name": "python",
   "nbconvert_exporter": "python",
   "pygments_lexer": "ipython2",
   "version": "2.7.10"
  }
 },
 "nbformat": 4,
 "nbformat_minor": 0
}

{
 "cells": [
  {
   "cell_type": "markdown",
   "metadata": {},
   "source": [
    "Paper on Malin 1 lists some typical dark-sky surface brightnesses from Magellan:  http://iopscience.iop.org/article/10.1088/2041-8205/815/2/L29:\n",
    "\"The average sky SB was 20.2 r mag arcsec−2, and 21.8 g mag arcsec−2\""
   ]
  },
  {
   "cell_type": "code",
   "execution_count": 1,
   "metadata": {
    "collapsed": true
   },
   "outputs": [],
   "source": [
    "%matplotlib inline\n",
    "import lsst.sims.skybrightness as sb\n",
    "import numpy as np"
   ]
  },
  {
   "cell_type": "code",
   "execution_count": 2,
   "metadata": {
    "collapsed": true
   },
   "outputs": [],
   "source": [
    "sm = sb.SkyModel(observatory='LSST',mags=True)"
   ]
  },
  {
   "cell_type": "code",
   "execution_count": 3,
   "metadata": {
    "collapsed": true
   },
   "outputs": [],
   "source": [
    "ra = (12. +36/60.+59.3/3600.)*np.pi/12.\n",
    "dec = np.radians(14+19/60.+49/3600.)\n",
    "mjd_base = 56772"
   ]
  },
  {
   "cell_type": "code",
   "execution_count": 4,
   "metadata": {
    "collapsed": false
   },
   "outputs": [
    {
     "name": "stderr",
     "output_type": "stream",
     "text": [
      "/Users/yoachim/lsst/DarwinX86/healpy/1.8.1+14/lib/python/healpy-1.8.1-py2.7-macosx-10.5-x86_64.egg/healpy/pixelfunc.py:1045: FutureWarning: comparison to `None` will result in an elementwise object comparison in the future.\n",
      "  if phi == None:\n",
      "/Users/yoachim/gitRepos/sims_skybrightness/python/lsst/sims/skybrightness/skyModel.py:384: RuntimeWarning: divide by zero encountered in log10\n",
      "  mags = -2.5*np.log10(self.spec)+np.log10(3631.)\n"
     ]
    }
   ],
   "source": [
    "rmags = []\n",
    "gmags = []\n",
    "ams = []\n",
    "for mjd in mjd_base+np.arange(0,1.1,.05):\n",
    "    sm.setRaDecMjd(ra,dec,mjd)\n",
    "    mags = sm.returnMags()[0]\n",
    "    rmags.append(mags[2])\n",
    "    gmags.append(mags[1])\n",
    "    ams.append(sm.airmass[0])"
   ]
  },
  {
   "cell_type": "code",
   "execution_count": 5,
   "metadata": {
    "collapsed": false
   },
   "outputs": [
    {
     "name": "stdout",
     "output_type": "stream",
     "text": [
      "mean rmag = 20.839031\n",
      "mean gmag = 21.968092\n",
      "mean airmass = 1.775338\n"
     ]
    }
   ],
   "source": [
    "rmags = np.array(rmags)\n",
    "gmags = np.array(gmags)\n",
    "ams = np.array(ams)\n",
    "good = np.where((ams < 3.) & (ams > 1))\n",
    "print 'mean rmag = %f' % np.mean(rmags[good])\n",
    "print 'mean gmag = %f' % np.mean(gmags[good])\n",
    "print 'mean airmass = %f' % np.mean(ams[good])"
   ]
  },
  {
   "cell_type": "code",
   "execution_count": null,
   "metadata": {
    "collapsed": false
   },
   "outputs": [],
   "source": []
  },
  {
   "cell_type": "markdown",
   "metadata": {},
   "source": []
  },
  {
   "cell_type": "code",
   "execution_count": null,
   "metadata": {
    "collapsed": true
   },
   "outputs": [],
   "source": []
  }
 ],
 "metadata": {
  "kernelspec": {
   "display_name": "Python 2",
   "language": "python",
   "name": "python2"
  },
  "language_info": {
   "codemirror_mode": {
    "name": "ipython",
    "version": 2
   },
   "file_extension": ".py",
   "mimetype": "text/x-python",
   "name": "python",
   "nbconvert_exporter": "python",
   "pygments_lexer": "ipython2",
   "version": "2.7.11"
  }
 },
 "nbformat": 4,
 "nbformat_minor": 0
}

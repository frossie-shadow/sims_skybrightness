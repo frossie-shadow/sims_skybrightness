{
 "cells": [
  {
   "cell_type": "code",
   "execution_count": 1,
   "metadata": {
    "collapsed": false
   },
   "outputs": [],
   "source": [
    "%matplotlib inline"
   ]
  },
  {
   "cell_type": "code",
   "execution_count": 2,
   "metadata": {
    "collapsed": false
   },
   "outputs": [],
   "source": [
    "import lsst.sims.skybrightness as sb\n",
    "import lsst.sims.photUtils.Bandpass as Bandpass\n",
    "import os\n",
    "import numpy as np\n",
    "import matplotlib.pylab as plt\n",
    "import healpy as hp"
   ]
  },
  {
   "cell_type": "code",
   "execution_count": 3,
   "metadata": {
    "collapsed": false
   },
   "outputs": [
    {
     "name": "stdout",
     "output_type": "stream",
     "text": [
      "computing at 1504 points on the sky\n"
     ]
    }
   ],
   "source": [
    "sm = sb.SkyModel(mags=True, twilight=False, zodiacal=False, moon=True)\n",
    "nside = 16\n",
    "hpmap = np.zeros(hp.nside2npix(nside))\n",
    "lat, ra = hp.pix2ang(nside, np.arange(hpmap.size))\n",
    "dec = np.pi/2-lat\n",
    "good = np.where(dec < 0)\n",
    "dec = dec[good]\n",
    "ra = ra[good]\n",
    "print 'computing at %i points on the sky' % ra.size"
   ]
  },
  {
   "cell_type": "code",
   "execution_count": 4,
   "metadata": {
    "collapsed": false
   },
   "outputs": [],
   "source": [
    "# Let's pull a large number of dark time mjds to test\n",
    "data,ack = sb.allSkyDB(100, sqlQ='select mjd from dates where sunAlt < %f and moonAlt < %f' % (np.radians(-20.), 0.), \n",
    "                   dtypes=zip(['mjd'],[float]))"
   ]
  },
  {
   "cell_type": "code",
   "execution_count": 5,
   "metadata": {
    "collapsed": false
   },
   "outputs": [
    {
     "data": {
      "text/plain": [
       "array([ 56948.019861,  56948.020683,  56948.021493, ...,  57182.17353 ,\n",
       "        57182.174352,  57182.175162])"
      ]
     },
     "execution_count": 5,
     "metadata": {},
     "output_type": "execute_result"
    }
   ],
   "source": [
    "data['mjd']"
   ]
  },
  {
   "cell_type": "code",
   "execution_count": 6,
   "metadata": {
    "collapsed": false
   },
   "outputs": [],
   "source": [
    "import timeit\n",
    "def runStuff(sm, mjd, n=10):\n",
    "    for i in np.arange(n):\n",
    "        sm.setRaDecMjd(ra,dec, mjd[i])\n",
    "\n",
    "npts = [10,100,1000]\n",
    "timeResults = []\n",
    "for npt in npts:\n",
    "    time = timeit.timeit(\"runStuff(sm,data['mjd'], n=%i)\" % npt, number=1, setup=\"from __main__ import runStuff,sm, data\")\n",
    "    timeResults.append(time)\n",
    "    \n"
   ]
  },
  {
   "cell_type": "code",
   "execution_count": 7,
   "metadata": {
    "collapsed": false
   },
   "outputs": [
    {
     "data": {
      "text/plain": [
       "[0.024406909942626953, 0.23298287391662598, 2.317126989364624]"
      ]
     },
     "execution_count": 7,
     "metadata": {},
     "output_type": "execute_result"
    }
   ],
   "source": [
    "timeResults"
   ]
  },
  {
   "cell_type": "code",
   "execution_count": 8,
   "metadata": {
    "collapsed": false
   },
   "outputs": [
    {
     "name": "stdout",
     "output_type": "stream",
     "text": [
      "Compute time for 2.5 million 6-filter, half-sky, moon down calcs = 1.609116 hours\n"
     ]
    }
   ],
   "source": [
    "print 'Compute time for 2.5 million 6-filter, half-sky, moon down calcs = %f hours' % (timeResults[-1]/1e3*2.5e6/3600.)"
   ]
  },
  {
   "cell_type": "code",
   "execution_count": 9,
   "metadata": {
    "collapsed": false
   },
   "outputs": [],
   "source": [
    "# Now with the moon up\n",
    "data,ack = sb.allSkyDB(100, sqlQ='select mjd from dates where sunAlt < %f and moonAlt > %f' % (np.radians(-20.), np.radians(10.)), \n",
    "                   dtypes=zip(['mjd'],[float]))"
   ]
  },
  {
   "cell_type": "code",
   "execution_count": 10,
   "metadata": {
    "collapsed": false
   },
   "outputs": [
    {
     "name": "stderr",
     "output_type": "stream",
     "text": [
      "/Users/yoachim/lsst/DarwinX86/healpy/1.8.1+11/lib/python/healpy-1.8.1-py2.7-macosx-10.5-x86_64.egg/healpy/pixelfunc.py:1045: FutureWarning: comparison to `None` will result in an elementwise object comparison in the future.\n",
      "  if phi == None:\n"
     ]
    },
    {
     "data": {
      "text/plain": [
       "[0.04257488250732422, 0.42209506034851074, 4.20595908164978]"
      ]
     },
     "execution_count": 10,
     "metadata": {},
     "output_type": "execute_result"
    }
   ],
   "source": [
    "timeResults = []\n",
    "for npt in npts:\n",
    "    time = timeit.timeit(\"runStuff(sm,data['mjd'], n=%i)\" % npt, number=1, setup=\"from __main__ import runStuff,sm, data\")\n",
    "    timeResults.append(time)\n",
    "timeResults"
   ]
  },
  {
   "cell_type": "code",
   "execution_count": 11,
   "metadata": {
    "collapsed": false
   },
   "outputs": [
    {
     "name": "stdout",
     "output_type": "stream",
     "text": [
      "Compute time for 2.5 million 6-filter, half-sky, moon-up calcs = 2.920805 hours\n"
     ]
    }
   ],
   "source": [
    "print 'Compute time for 2.5 million 6-filter, half-sky, moon-up calcs = %f hours' % (timeResults[-1]/1e3*2.5e6/3600.)"
   ]
  },
  {
   "cell_type": "code",
   "execution_count": null,
   "metadata": {
    "collapsed": false
   },
   "outputs": [],
   "source": []
  },
  {
   "cell_type": "code",
   "execution_count": null,
   "metadata": {
    "collapsed": false
   },
   "outputs": [],
   "source": []
  }
 ],
 "metadata": {
  "kernelspec": {
   "display_name": "Python 2",
   "language": "python",
   "name": "python2"
  },
  "language_info": {
   "codemirror_mode": {
    "name": "ipython",
    "version": 2
   },
   "file_extension": ".py",
   "mimetype": "text/x-python",
   "name": "python",
   "nbconvert_exporter": "python",
   "pygments_lexer": "ipython2",
   "version": "2.7.11"
  }
 },
 "nbformat": 4,
 "nbformat_minor": 0
}

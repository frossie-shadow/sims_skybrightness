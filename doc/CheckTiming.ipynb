{
 "metadata": {
  "name": "",
  "signature": "sha256:d4dfc7316dc5c0fd02a8befccebf29fae4857188e8f0d409780f801d32d5d098"
 },
 "nbformat": 3,
 "nbformat_minor": 0,
 "worksheets": [
  {
   "cells": [
    {
     "cell_type": "code",
     "collapsed": false,
     "input": [
      "%matplotlib inline"
     ],
     "language": "python",
     "metadata": {},
     "outputs": [],
     "prompt_number": 1
    },
    {
     "cell_type": "code",
     "collapsed": false,
     "input": [
      "import lsst.sims.skybrightness as sb\n",
      "import lsst.sims.photUtils.Bandpass as Bandpass\n",
      "import os\n",
      "import numpy as np\n",
      "import matplotlib.pylab as plt\n",
      "import healpy as hp"
     ],
     "language": "python",
     "metadata": {},
     "outputs": [],
     "prompt_number": 2
    },
    {
     "cell_type": "code",
     "collapsed": false,
     "input": [
      "sm = sb.SkyModel(mags=True, twilight=False, zodiacal=False, moon=True)\n",
      "nside = 16\n",
      "hpmap = np.zeros(hp.nside2npix(nside))\n",
      "lat, ra = hp.pix2ang(nside, np.arange(hpmap.size))\n",
      "dec = np.pi/2-lat\n",
      "good = np.where(dec < 0)\n",
      "dec = dec[good]\n",
      "ra = ra[good]\n",
      "print 'computing at %i points on the sky' % ra.size"
     ],
     "language": "python",
     "metadata": {},
     "outputs": [
      {
       "output_type": "stream",
       "stream": "stdout",
       "text": [
        "computing at 1504 points on the sky\n"
       ]
      },
      {
       "output_type": "stream",
       "stream": "stderr",
       "text": [
        "/Users/yoachim/gitRepos/sims_skybrightness/python/lsst/sims/skybrightness/interpComponents.py:76: RuntimeWarning: divide by zero encountered in log10\n",
        "  self.logSpec = np.log10(self.spec['spectra'])\n"
       ]
      }
     ],
     "prompt_number": 3
    },
    {
     "cell_type": "code",
     "collapsed": false,
     "input": [
      "# Let's pull a large number of dark time mjds to test\n",
      "data,ack = sb.allSkyDB(100, sqlQ='select mjd from dates where sunAlt < %f and moonAlt < %f' % (np.radians(-20.), 0.), \n",
      "                   dtypes=zip(['mjd'],[float]))"
     ],
     "language": "python",
     "metadata": {},
     "outputs": [],
     "prompt_number": 4
    },
    {
     "cell_type": "code",
     "collapsed": false,
     "input": [
      "data['mjd']"
     ],
     "language": "python",
     "metadata": {},
     "outputs": [
      {
       "metadata": {},
       "output_type": "pyout",
       "prompt_number": 5,
       "text": [
        "array([ 56948.019861,  56948.020683,  56948.021493, ...,  57073.368067,\n",
        "        57073.368877,  57073.369687])"
       ]
      }
     ],
     "prompt_number": 5
    },
    {
     "cell_type": "code",
     "collapsed": false,
     "input": [
      "import timeit\n",
      "def runStuff(sm, mjd, n=10):\n",
      "    for i in np.arange(n):\n",
      "        sm.setRaDecMjd(ra,dec, mjd[i])\n",
      "        sm.computeSpec()\n",
      "\n",
      "npts = [10,100,1000]\n",
      "timeResults = []\n",
      "for npt in npts:\n",
      "    time = timeit.timeit(\"runStuff(sm,data['mjd'], n=%i)\" % npt, number=1, setup=\"from __main__ import runStuff,sm, data\")\n",
      "    timeResults.append(time)\n",
      "    \n"
     ],
     "language": "python",
     "metadata": {},
     "outputs": [
      {
       "output_type": "stream",
       "stream": "stderr",
       "text": [
        "/Users/yoachim/gitRepos/sims_skybrightness/python/lsst/sims/skybrightness/interpComponents.py:119: RuntimeWarning: divide by zero encountered in divide\n",
        "  w1 = (self.dimDict['airmass'][right] - interpPoints['airmass'][order])/fullRange\n",
        "/Users/yoachim/gitRepos/sims_skybrightness/python/lsst/sims/skybrightness/interpComponents.py:120: RuntimeWarning: divide by zero encountered in divide\n",
        "  w2 = (interpPoints['airmass'][order] - self.dimDict['airmass'][left])/fullRange\n"
       ]
      }
     ],
     "prompt_number": 6
    },
    {
     "cell_type": "code",
     "collapsed": false,
     "input": [
      "timeResults"
     ],
     "language": "python",
     "metadata": {},
     "outputs": [
      {
       "metadata": {},
       "output_type": "pyout",
       "prompt_number": 7,
       "text": [
        "[0.026167869567871094, 0.2506449222564697, 2.495469808578491]"
       ]
      }
     ],
     "prompt_number": 7
    },
    {
     "cell_type": "code",
     "collapsed": false,
     "input": [
      "print 'Compute time for 2.5 million 6-filter, half-sky, moon down calcs = %f hours' % (timeResults[-1]/1e3*2.5e6/3600.)"
     ],
     "language": "python",
     "metadata": {},
     "outputs": [
      {
       "output_type": "stream",
       "stream": "stdout",
       "text": [
        "Compute time for 2.5 million 6-filter, half-sky, moon down calcs = 1.732965 hours\n"
       ]
      }
     ],
     "prompt_number": 8
    },
    {
     "cell_type": "code",
     "collapsed": false,
     "input": [
      "# Now with the moon up\n",
      "data,ack = sb.allSkyDB(100, sqlQ='select mjd from dates where sunAlt < %f and moonAlt > %f' % (np.radians(-20.), np.radians(10.)), \n",
      "                   dtypes=zip(['mjd'],[float]))"
     ],
     "language": "python",
     "metadata": {},
     "outputs": [],
     "prompt_number": 9
    },
    {
     "cell_type": "code",
     "collapsed": false,
     "input": [
      "timeResults = []\n",
      "for npt in npts:\n",
      "    time = timeit.timeit(\"runStuff(sm,data['mjd'], n=%i)\" % npt, number=1, setup=\"from __main__ import runStuff,sm, data\")\n",
      "    timeResults.append(time)\n",
      "timeResults"
     ],
     "language": "python",
     "metadata": {},
     "outputs": [
      {
       "output_type": "stream",
       "stream": "stderr",
       "text": [
        "/Users/yoachim/lsst/DarwinX86/healpy/1.8.1+6/lib/python/healpy-1.8.1-py2.7-macosx-10.5-x86_64.egg/healpy/pixelfunc.py:1045: FutureWarning: comparison to `None` will result in an elementwise object comparison in the future.\n",
        "  if phi == None:\n"
       ]
      },
      {
       "metadata": {},
       "output_type": "pyout",
       "prompt_number": 10,
       "text": [
        "[0.04779696464538574, 0.46718907356262207, 4.705231189727783]"
       ]
      }
     ],
     "prompt_number": 10
    },
    {
     "cell_type": "code",
     "collapsed": false,
     "input": [
      "print 'Compute time for 2.5 million 6-filter, half-sky, moon-up calcs = %f hours' % (timeResults[-1]/1e3*2.5e6/3600.)"
     ],
     "language": "python",
     "metadata": {},
     "outputs": [
      {
       "output_type": "stream",
       "stream": "stdout",
       "text": [
        "Compute time for 2.5 million 6-filter, half-sky, moon-up calcs = 3.267522 hours\n"
       ]
      }
     ],
     "prompt_number": 11
    },
    {
     "cell_type": "code",
     "collapsed": false,
     "input": [],
     "language": "python",
     "metadata": {},
     "outputs": [],
     "prompt_number": 11
    },
    {
     "cell_type": "code",
     "collapsed": false,
     "input": [],
     "language": "python",
     "metadata": {},
     "outputs": [],
     "prompt_number": 11
    }
   ],
   "metadata": {}
  }
 ]
}
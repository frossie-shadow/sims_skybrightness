{
 "metadata": {
  "name": "",
  "signature": "sha256:b40e6df53a7b64ce643ec4e654f3fe603dd6c51ffb444a13a6fcbe0f34ea640a"
 },
 "nbformat": 3,
 "nbformat_minor": 0,
 "worksheets": [
  {
   "cells": [
    {
     "cell_type": "code",
     "collapsed": false,
     "input": [
      "%matplotlib inline"
     ],
     "language": "python",
     "metadata": {},
     "outputs": [],
     "prompt_number": 1
    },
    {
     "cell_type": "code",
     "collapsed": false,
     "input": [
      "import lsst.sims.skybrightness as sb\n",
      "import lsst.sims.photUtils.Bandpass as Bandpass\n",
      "import os\n",
      "import numpy as np\n",
      "import matplotlib.pylab as plt\n",
      "import healpy as hp"
     ],
     "language": "python",
     "metadata": {},
     "outputs": [],
     "prompt_number": 2
    },
    {
     "cell_type": "code",
     "collapsed": false,
     "input": [
      "sm = sb.SkyModel(mags=True, twilight=False, zodiacal=False, moon=True)\n",
      "nside = 16\n",
      "hpmap = np.zeros(hp.nside2npix(nside))\n",
      "lat, ra = hp.pix2ang(nside, np.arange(hpmap.size))\n",
      "dec = np.pi/2-lat\n",
      "good = np.where(dec < 0)\n",
      "dec = dec[good]\n",
      "ra = ra[good]\n",
      "print 'computing at %i points on the sky' % ra.size"
     ],
     "language": "python",
     "metadata": {},
     "outputs": [
      {
       "output_type": "stream",
       "stream": "stdout",
       "text": [
        "computing at 1504 points on the sky\n"
       ]
      },
      {
       "output_type": "stream",
       "stream": "stderr",
       "text": [
        "/Users/yoachim/gitRepos/sims_skybrightness/python/lsst/sims/skybrightness/interpComponents.py:76: RuntimeWarning: divide by zero encountered in log10\n",
        "  self.logSpec = np.log10(self.spec['spectra'])\n"
       ]
      }
     ],
     "prompt_number": 3
    },
    {
     "cell_type": "code",
     "collapsed": false,
     "input": [
      "# Let's pull a large number of dark time mjds to test\n",
      "data,ack = sb.allSkyDB(100, sqlQ='select mjd from dates where sunAlt < %f and moonAlt < %f' % (np.radians(-20.), 0.), \n",
      "                   dtypes=zip(['mjd'],[float]))"
     ],
     "language": "python",
     "metadata": {},
     "outputs": [],
     "prompt_number": 4
    },
    {
     "cell_type": "code",
     "collapsed": false,
     "input": [
      "data['mjd']"
     ],
     "language": "python",
     "metadata": {},
     "outputs": [
      {
       "metadata": {},
       "output_type": "pyout",
       "prompt_number": 5,
       "text": [
        "array([ 56948.019861,  56948.020683,  56948.021493, ...,  57073.368067,\n",
        "        57073.368877,  57073.369687])"
       ]
      }
     ],
     "prompt_number": 5
    },
    {
     "cell_type": "code",
     "collapsed": false,
     "input": [
      "import timeit\n",
      "def runStuff(sm, mjd, n=10):\n",
      "    for i in np.arange(n):\n",
      "        sm.setRaDecMjd(ra,dec, mjd[i])\n",
      "        sm.computeSpec()\n",
      "\n",
      "npts = [10,100,1000]\n",
      "timeResults = []\n",
      "for npt in npts:\n",
      "    time = timeit.timeit(\"runStuff(sm,data['mjd'], n=%i)\" % npt, number=1, setup=\"from __main__ import runStuff,sm, data\")\n",
      "    timeResults.append(time)\n",
      "    \n"
     ],
     "language": "python",
     "metadata": {},
     "outputs": [],
     "prompt_number": 12
    },
    {
     "cell_type": "code",
     "collapsed": false,
     "input": [
      "timeResults"
     ],
     "language": "python",
     "metadata": {},
     "outputs": [
      {
       "metadata": {},
       "output_type": "pyout",
       "prompt_number": 13,
       "text": [
        "[0.048419952392578125, 0.4706599712371826, 4.695868015289307]"
       ]
      }
     ],
     "prompt_number": 13
    },
    {
     "cell_type": "code",
     "collapsed": false,
     "input": [
      "print 'Compute time for 2.5 million 6-filter, half-sky, moon down calcs = %f hours' % (timeResults[-1]/1e3*2.5e6/3600.)"
     ],
     "language": "python",
     "metadata": {},
     "outputs": [
      {
       "output_type": "stream",
       "stream": "stdout",
       "text": [
        "Compute time for 2.5 million 6-filter, half-sky, moon down calcs = 3.261019 hours\n"
       ]
      }
     ],
     "prompt_number": 14
    },
    {
     "cell_type": "code",
     "collapsed": false,
     "input": [
      "# Now with the moon up\n",
      "data,ack = sb.allSkyDB(100, sqlQ='select mjd from dates where sunAlt < %f and moonAlt > %f' % (np.radians(-20.), np.radians(10.)), \n",
      "                   dtypes=zip(['mjd'],[float]))"
     ],
     "language": "python",
     "metadata": {},
     "outputs": [],
     "prompt_number": 15
    },
    {
     "cell_type": "code",
     "collapsed": false,
     "input": [
      "timeResults = []\n",
      "for npt in npts:\n",
      "    time = timeit.timeit(\"runStuff(sm,data['mjd'], n=%i)\" % npt, number=1, setup=\"from __main__ import runStuff,sm, data\")\n",
      "    timeResults.append(time)\n",
      "timeResults"
     ],
     "language": "python",
     "metadata": {},
     "outputs": [
      {
       "metadata": {},
       "output_type": "pyout",
       "prompt_number": 16,
       "text": [
        "[0.04829001426696777, 0.4657418727874756, 4.685297966003418]"
       ]
      }
     ],
     "prompt_number": 16
    },
    {
     "cell_type": "code",
     "collapsed": false,
     "input": [
      "print 'Compute time for 2.5 million 6-filter, half-sky, moon-up calcs = %f hours' % (timeResults[-1]/1e3*2.5e6/3600.)"
     ],
     "language": "python",
     "metadata": {},
     "outputs": [
      {
       "output_type": "stream",
       "stream": "stdout",
       "text": [
        "Compute time for 2.5 million 6-filter, half-sky, moon-up calcs = 3.253679 hours\n"
       ]
      }
     ],
     "prompt_number": 17
    },
    {
     "cell_type": "code",
     "collapsed": false,
     "input": [],
     "language": "python",
     "metadata": {},
     "outputs": [],
     "prompt_number": 17
    },
    {
     "cell_type": "code",
     "collapsed": false,
     "input": [],
     "language": "python",
     "metadata": {},
     "outputs": []
    }
   ],
   "metadata": {}
  }
 ]
}
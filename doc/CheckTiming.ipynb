{
 "metadata": {
  "name": "",
  "signature": "sha256:e1e1d552bb42c7746589b7d87a9bea16bbce87938c3415f4097fa181fa369473"
 },
 "nbformat": 3,
 "nbformat_minor": 0,
 "worksheets": [
  {
   "cells": [
    {
     "cell_type": "code",
     "collapsed": false,
     "input": [
      "%matplotlib inline"
     ],
     "language": "python",
     "metadata": {},
     "outputs": [],
     "prompt_number": 1
    },
    {
     "cell_type": "code",
     "collapsed": false,
     "input": [
      "import lsst.sims.skybrightness as sb\n",
      "import lsst.sims.photUtils.Bandpass as Bandpass\n",
      "import os\n",
      "import numpy as np\n",
      "import matplotlib.pylab as plt\n",
      "import healpy as hp"
     ],
     "language": "python",
     "metadata": {},
     "outputs": [],
     "prompt_number": 2
    },
    {
     "cell_type": "code",
     "collapsed": false,
     "input": [
      "sm = sb.SkyModel(mags=True, twilight=False, zodiacal=False, moon=True)\n",
      "nside = 16\n",
      "hpmap = np.zeros(hp.nside2npix(nside))\n",
      "lat, ra = hp.pix2ang(nside, np.arange(hpmap.size))\n",
      "dec = np.pi/2-lat\n",
      "good = np.where(dec < 0)\n",
      "dec = dec[good]\n",
      "ra = ra[good]\n",
      "print 'computing at %i points on the sky' % ra.size"
     ],
     "language": "python",
     "metadata": {},
     "outputs": [
      {
       "output_type": "stream",
       "stream": "stdout",
       "text": [
        "computing at 1504 points on the sky\n"
       ]
      }
     ],
     "prompt_number": 19
    },
    {
     "cell_type": "code",
     "collapsed": false,
     "input": [
      "# Let's pull a large number of dark time mjds to test\n",
      "data,ack = sb.allSkyDB(100, sqlQ='select mjd from dates where sunAlt < %f and moonAlt < %f' % (np.radians(-20.), 0.), \n",
      "                   dtypes=zip(['mjd'],[float]))"
     ],
     "language": "python",
     "metadata": {},
     "outputs": [],
     "prompt_number": 20
    },
    {
     "cell_type": "code",
     "collapsed": false,
     "input": [
      "data['mjd']"
     ],
     "language": "python",
     "metadata": {},
     "outputs": [
      {
       "metadata": {},
       "output_type": "pyout",
       "prompt_number": 21,
       "text": [
        "array([ 56948.019861,  56948.020683,  56948.021493, ...,  57073.368067,\n",
        "        57073.368877,  57073.369687])"
       ]
      }
     ],
     "prompt_number": 21
    },
    {
     "cell_type": "code",
     "collapsed": false,
     "input": [
      "import timeit\n",
      "def runStuff(sm, mjd, n=10):\n",
      "    for i in np.arange(n):\n",
      "        sm.setRaDecMjd(ra,dec, mjd[i])\n",
      "        sm.computeSpec()\n",
      "\n",
      "npts = [10,100,1000]\n",
      "timeResults = []\n",
      "for npt in npts:\n",
      "    time = timeit.timeit(\"runStuff(sm,data['mjd'], n=%i)\" % npt, number=1, setup=\"from __main__ import runStuff,sm, data\")\n",
      "    timeResults.append(time)\n",
      "    \n"
     ],
     "language": "python",
     "metadata": {},
     "outputs": [],
     "prompt_number": 25
    },
    {
     "cell_type": "code",
     "collapsed": false,
     "input": [
      "timeResults\n"
     ],
     "language": "python",
     "metadata": {},
     "outputs": [
      {
       "metadata": {},
       "output_type": "pyout",
       "prompt_number": 26,
       "text": [
        "[0.051934003829956055, 0.4840981960296631, 4.876439094543457]"
       ]
      }
     ],
     "prompt_number": 26
    },
    {
     "cell_type": "code",
     "collapsed": false,
     "input": [],
     "language": "python",
     "metadata": {},
     "outputs": [],
     "prompt_number": 27
    },
    {
     "cell_type": "markdown",
     "metadata": {},
     "source": []
    },
    {
     "cell_type": "code",
     "collapsed": false,
     "input": [],
     "language": "python",
     "metadata": {},
     "outputs": []
    }
   ],
   "metadata": {}
  }
 ]
}